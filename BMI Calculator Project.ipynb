{
 "cells": [
  {
   "cell_type": "markdown",
   "id": "14fa37ea-ebd2-4852-b16d-cd328c10c972",
   "metadata": {},
   "source": [
    "# BMI Calculator"
   ]
  },
  {
   "cell_type": "code",
   "execution_count": 2,
   "id": "bf139ccf-fc6a-4d1b-9f4e-4f25c46bc3da",
   "metadata": {},
   "outputs": [],
   "source": [
    "#BMI = (weight in pounds x 703) / (height in inshes x height in inches)"
   ]
  },
  {
   "cell_type": "code",
   "execution_count": 9,
   "id": "221febbd-88ba-436a-8931-2d487f24db9e",
   "metadata": {},
   "outputs": [
    {
     "name": "stdin",
     "output_type": "stream",
     "text": [
      "Enter your name: Debbie\n",
      "Enter your weight in pounds: 160\n",
      "Enter your height in inches: 62.4\n"
     ]
    },
    {
     "name": "stdout",
     "output_type": "stream",
     "text": [
      "28.9\n",
      "Debbie, you are overweight. You need to exercise and watch your diet.\n"
     ]
    }
   ],
   "source": [
    "name = input(\"Enter your name:\")\n",
    "\n",
    "weight = float(input(\"Enter your weight in pounds:\"))\n",
    "\n",
    "height = float(input(\"Enter your height in inches:\"))\n",
    "\n",
    "BMI = float((weight * 703) / (height * height))\n",
    "\n",
    "print(round (BMI, 1))\n",
    "\n",
    "if BMI > 0:\n",
    "    if(BMI<18.5):\n",
    "        print(name + \", you are underweight. You need to eat more.\")\n",
    "    elif(BMI<=24.9):\n",
    "        print(name + \", you are normal weight.\")\n",
    "    elif(BMI<=29.9):\n",
    "        print(name + \", you are overweight. You need to exercise and watch your diet.\")\n",
    "    elif(BMI<=34.9):\n",
    "        print(name + \", you are obese. You need to exercise, watch your diet and seek medical attention.\")\n",
    "    elif(BMI<=39.9):\n",
    "        print(name + \", you are severely obese. You need to exercise, watch your diet and seek medical attention immediately!\")\n",
    "    else:\n",
    "        print(name + \", you are morbidly obese. You need to exercise, watch your diet and seek medical attention immediately! \")\n",
    "else:\n",
    "    print(\"Enter valid input...\")"
   ]
  },
  {
   "cell_type": "code",
   "execution_count": null,
   "id": "03afce2b-8e07-4915-b9bb-81f48c160fac",
   "metadata": {},
   "outputs": [],
   "source": []
  }
 ],
 "metadata": {
  "kernelspec": {
   "display_name": "Python 3 (ipykernel)",
   "language": "python",
   "name": "python3"
  },
  "language_info": {
   "codemirror_mode": {
    "name": "ipython",
    "version": 3
   },
   "file_extension": ".py",
   "mimetype": "text/x-python",
   "name": "python",
   "nbconvert_exporter": "python",
   "pygments_lexer": "ipython3",
   "version": "3.12.4"
  }
 },
 "nbformat": 4,
 "nbformat_minor": 5
}
